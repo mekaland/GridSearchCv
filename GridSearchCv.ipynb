{
  "nbformat": 4,
  "nbformat_minor": 0,
  "metadata": {
    "colab": {
      "provenance": []
    },
    "kernelspec": {
      "name": "python3",
      "display_name": "Python 3"
    },
    "language_info": {
      "name": "python"
    }
  },
  "cells": [
    {
      "cell_type": "code",
      "execution_count": 54,
      "metadata": {
        "colab": {
          "base_uri": "https://localhost:8080/",
          "height": 383
        },
        "id": "vVrEHik74P6H",
        "outputId": "875c45af-1f83-451e-b9c0-6a881d8bf30d"
      },
      "outputs": [
        {
          "output_type": "error",
          "ename": "ModuleNotFoundError",
          "evalue": "No module named 'tensorflow.keras.wrappers'",
          "traceback": [
            "\u001b[0;31m---------------------------------------------------------------------------\u001b[0m",
            "\u001b[0;31mModuleNotFoundError\u001b[0m                       Traceback (most recent call last)",
            "\u001b[0;32m<ipython-input-54-399c7618d3ea>\u001b[0m in \u001b[0;36m<cell line: 10>\u001b[0;34m()\u001b[0m\n\u001b[1;32m      8\u001b[0m \u001b[0;32mfrom\u001b[0m \u001b[0mtensorflow\u001b[0m\u001b[0;34m.\u001b[0m\u001b[0mkeras\u001b[0m\u001b[0;34m.\u001b[0m\u001b[0mmodels\u001b[0m \u001b[0;32mimport\u001b[0m \u001b[0mSequential\u001b[0m\u001b[0;34m\u001b[0m\u001b[0;34m\u001b[0m\u001b[0m\n\u001b[1;32m      9\u001b[0m \u001b[0;32mfrom\u001b[0m \u001b[0mtensorflow\u001b[0m\u001b[0;34m.\u001b[0m\u001b[0mkeras\u001b[0m\u001b[0;34m.\u001b[0m\u001b[0mlayers\u001b[0m \u001b[0;32mimport\u001b[0m \u001b[0mDense\u001b[0m\u001b[0;34m,\u001b[0m \u001b[0mDropout\u001b[0m\u001b[0;34m\u001b[0m\u001b[0;34m\u001b[0m\u001b[0m\n\u001b[0;32m---> 10\u001b[0;31m \u001b[0;32mfrom\u001b[0m \u001b[0mtensorflow\u001b[0m\u001b[0;34m.\u001b[0m\u001b[0mkeras\u001b[0m\u001b[0;34m.\u001b[0m\u001b[0mwrappers\u001b[0m\u001b[0;34m.\u001b[0m\u001b[0mscikit_learn\u001b[0m \u001b[0;32mimport\u001b[0m \u001b[0mKerasRegressor\u001b[0m\u001b[0;34m\u001b[0m\u001b[0;34m\u001b[0m\u001b[0m\n\u001b[0m\u001b[1;32m     11\u001b[0m \u001b[0;32mfrom\u001b[0m \u001b[0mtensorflow\u001b[0m\u001b[0;34m.\u001b[0m\u001b[0mkeras\u001b[0m\u001b[0;34m.\u001b[0m\u001b[0moptimizers\u001b[0m \u001b[0;32mimport\u001b[0m \u001b[0mAdam\u001b[0m\u001b[0;34m\u001b[0m\u001b[0;34m\u001b[0m\u001b[0m\n\u001b[1;32m     12\u001b[0m \u001b[0;34m\u001b[0m\u001b[0m\n",
            "\u001b[0;31mModuleNotFoundError\u001b[0m: No module named 'tensorflow.keras.wrappers'",
            "",
            "\u001b[0;31m---------------------------------------------------------------------------\u001b[0;32m\nNOTE: If your import is failing due to a missing package, you can\nmanually install dependencies using either !pip or !apt.\n\nTo view examples of installing some common dependencies, click the\n\"Open Examples\" button below.\n\u001b[0;31m---------------------------------------------------------------------------\u001b[0m\n"
          ],
          "errorDetails": {
            "actions": [
              {
                "action": "open_url",
                "actionText": "Open Examples",
                "url": "/notebooks/snippets/importing_libraries.ipynb"
              }
            ]
          }
        }
      ],
      "source": [
        "import pandas as pd\n",
        "import numpy as np\n",
        "from sklearn.preprocessing import LabelEncoder, StandardScaler, OneHotEncoder\n",
        "from sklearn.model_selection import train_test_split\n",
        "import matplotlib.pyplot as plt\n",
        "import seaborn as sns\n",
        "from sklearn.model_selection import GridSearchCV\n",
        "from tensorflow.keras.models import Sequential\n",
        "from tensorflow.keras.layers import Dense, Dropout\n",
        "from tensorflow.keras.wrappers.scikit_learn import KerasRegressor\n",
        "from tensorflow.keras.optimizers import Adam\n",
        "\n",
        "\n",
        "\n",
        "#veriyi okuyoruz\n",
        "veri = pd.read_csv(\"/content/car_price_prediction.csv\")\n",
        "veri = veri.drop(columns = \"ID\")\n",
        "\n",
        "#eksik değer var mı ona bakıyoruz\n",
        "#veri.isnull().sum()\n",
        "\n",
        "#levy(harç) object olarak tanımlanmış özünde sayısal değer baktığımızda \"-\" olduğunu gördük bunu replace yapıcaz\n",
        "\n",
        "veri[\"Levy\"] = veri[\"Levy\"].replace(\"-\", np.nan)\n",
        "veri[\"Levy\"] = veri[\"Levy\"].fillna(0)\n",
        "veri[\"Levy\"] = veri[\"Levy\"].astype(int)\n",
        "#veri.info()\n",
        "\n",
        "veri[\"Turbo\"] = veri[\"Engine volume\"].apply(lambda x: \"Turbo\" if \"Turbo\" in str(x) else \"Non Trurbo\")\n",
        "veri[\"Engine volume\"] = veri[\"Engine volume\"].apply(lambda x:str(x).replace(\"Turbo\", \"\")).astype(float)\n",
        "veri[\"Mileage\"] = veri[\"Mileage\"].apply(lambda x:str(x).replace(\"km\", \"\")).astype(int)\n",
        "veri[\"Cylinders\"] = veri[\"Cylinders\"].astype(int)\n",
        "\n",
        "veri[\"Doors\"] =np.where(veri[\"Doors\"] == \"04-May\", 4, veri[\"Doors\"])\n",
        "veri[\"Doors\"] =np.where(veri[\"Doors\"] == \"02-Mar\", 2, veri[\"Doors\"])\n",
        "veri[\"Doors\"] =np.where(veri[\"Doors\"] == \">5\", 5, veri[\"Doors\"])\n",
        "veri[\"Doors\"] =veri[\"Doors\"].astype(int)\n",
        "\n",
        "#elimizdeki kategorik değişkenleri encoding uygulayarak sayısal değere çeviriyoruz\n",
        "cat =[]\n",
        "for i in veri.columns:\n",
        "  if veri[i].dtype == \"object\":\n",
        "    cat.append(i)\n",
        "\n",
        "le = LabelEncoder()\n",
        "\n",
        "for i in cat:\n",
        "  veri[i]=le.fit_transform(veri[i])\n",
        "\n",
        "y =veri[\"Price\"]\n",
        "x= veri.drop(columns=\"Price\")\n",
        "\n",
        "sc = StandardScaler()\n",
        "x=sc.fit_transform(x)\n",
        "\n",
        "x_train,x_test,y_train,y_test = train_test_split(x,y,test_size=0.2,random_state=0)\n",
        "x_train,x_val,y_train,y_val = train_test_split(x_train,y_train,test_size=0.1,random_state=0)\n",
        "\n",
        "\n",
        "def modelkur(units=64,activation=\"linear\",learning_rate= 0.01,hidden_layers=2, dropout_rate=0.2):\n",
        "\n",
        "  model=Sequential()\n",
        "  model.add(Dense(units=units,input_dim=x_train.shape[1],activation=activation))\n",
        "\n",
        "  for i in range(hidden_layers):\n",
        "    model.add(Dense(units=units,activation=activation))\n",
        "    model.add(Dropout(dropout_rate))\n",
        "\n",
        "  model.add(Dense(1,activation=activation))\n",
        "  model.compile(optimizer=Adam(learning_rate),loss=\"mae\",metrics=[\"mae\"])\n",
        "  return model\n",
        "\n",
        "parametreler={\n",
        "    \"units\" : [32,64],\n",
        "    \"activation\":[\"linear\",\"relu\"],\n",
        "    \"learning_rate\":[0.01,0.001],\n",
        "    \"hidden_layers\":[2,3],\n",
        "    \"dropout_rate\":[0.2,0.3],\n",
        "    \"epochs\":[50,100]\n",
        "}\n",
        "\n",
        "regres =  KerasRegressor(build_fn= modelkur,verbose=0)\n",
        "grid= GridSearchCV(estimator=regres,param_grid=parametreler,cv=3)\n",
        "gridsonuc=grid.fit(x_train,y_train)\n",
        "bestparam = gridsonuc.best_params_\n",
        "bestmodel = modelkur(units=bestparam[\"units\"],activation=bestparam[\"activation\"],learning_rate=bestparam[\"learning_rate\"],\n",
        "                     hidden_layers= bestparam[\"hidden_layers\"],dropout_rate=bestparam[\"dropout_rate\"])\n",
        "\n",
        "\n",
        "\n",
        "cıktı = bestmodel.fit(x_train,y_train,epochs=bestparam[\"epochs \"],verbose=0,validation_data=(x_val,y_val),batch_size=64)\n",
        "tahmin = bestmodel.predict(x_test)\n",
        "\n",
        "fig,ax = plt.subplots(1,2,figsize=(25,10))\n",
        "ax[0].plot(cıktı.history[\"loss\"],label=\"Training Loss\")\n",
        "ax[0].plot(cıktı.history[\"val_loss\"],label=\"Validation Loss\")\n",
        "ax[0].set_title(\"loss Grafiği\")\n",
        "ax[0].set_xlabel(\"Epochs\")\n",
        "ax[0].set_ylabel(\"Loss\")\n",
        "ax[0].legend()\n",
        "\n",
        "ax[1].plot(range(len(y_test[:50])),y_test[:50],label=\"Gerçek\")\n",
        "ax[1].plot(range(len(y_test[:50])),y_test[:50],label=\"Tahmin\")\n",
        "ax[1].set_title(\"Araç Fiyat Tahmini\")\n",
        "ax[1].set_xlabel(\"Gözlem no\")\n",
        "ax[1].set_ylabel(\"Fiyat\")\n",
        "ax[1].legend()\n",
        "\n"
      ]
    }
  ]
}